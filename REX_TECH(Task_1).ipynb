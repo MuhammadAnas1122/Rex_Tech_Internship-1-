{
  "nbformat": 4,
  "nbformat_minor": 0,
  "metadata": {
    "colab": {
      "provenance": []
    },
    "kernelspec": {
      "name": "python3",
      "display_name": "Python 3"
    },
    "language_info": {
      "name": "python"
    },
    "accelerator": "TPU"
  },
  "cells": [
    {
      "cell_type": "code",
      "execution_count": 2,
      "metadata": {
        "id": "uAzHceqrwvLb"
      },
      "outputs": [],
      "source": [
        "import pandas as pd\n",
        "import numpy as np\n",
        "import os\n",
        "import matplotlib.pyplot as plt\n",
        "import seaborn as sns\n",
        "import re\n",
        "import csv\n",
        "\n",
        "\n",
        "from sklearn.feature_extraction.text import TfidfVectorizer\n",
        "from sklearn.linear_model import LogisticRegression\n",
        "from sklearn.model_selection import train_test_split\n",
        "from sklearn.metrics import classification_report, confusion_matrix\n",
        "from sklearn.svm import SVC"
      ]
    },
    {
      "cell_type": "code",
      "source": [],
      "metadata": {
        "id": "eUQOnH9q46vl"
      },
      "execution_count": null,
      "outputs": []
    },
    {
      "cell_type": "code",
      "source": [
        "df = pd.read_csv(\"/content/drive/MyDrive/Tassk_1/McDonal Data/McDonald_s_Reviews.csv\",encoding='latin1')\n",
        "df"
      ],
      "metadata": {
        "colab": {
          "base_uri": "https://localhost:8080/",
          "height": 597
        },
        "id": "wZapwbJExzgI",
        "outputId": "096e4d8a-c61f-4461-d603-c825dbec7b9c"
      },
      "execution_count": 4,
      "outputs": [
        {
          "output_type": "execute_result",
          "data": {
            "text/plain": [
              "       reviewer_id  store_name              category  \\\n",
              "0                1  McDonald's  Fast food restaurant   \n",
              "1                2  McDonald's  Fast food restaurant   \n",
              "2                3  McDonald's  Fast food restaurant   \n",
              "3                4  McDonald's  Fast food restaurant   \n",
              "4                5  McDonald's  Fast food restaurant   \n",
              "...            ...         ...                   ...   \n",
              "33391        33392  McDonald's  Fast food restaurant   \n",
              "33392        33393  McDonald's  Fast food restaurant   \n",
              "33393        33394  McDonald's  Fast food restaurant   \n",
              "33394        33395  McDonald's  Fast food restaurant   \n",
              "33395        33396  McDonald's  Fast food restaurant   \n",
              "\n",
              "                                           store_address  latitude   \\\n",
              "0      13749 US-183 Hwy, Austin, TX 78750, United States  30.460718   \n",
              "1      13749 US-183 Hwy, Austin, TX 78750, United States  30.460718   \n",
              "2      13749 US-183 Hwy, Austin, TX 78750, United States  30.460718   \n",
              "3      13749 US-183 Hwy, Austin, TX 78750, United States  30.460718   \n",
              "4      13749 US-183 Hwy, Austin, TX 78750, United States  30.460718   \n",
              "...                                                  ...        ...   \n",
              "33391  3501 Biscayne Blvd, Miami, FL 33137, United St...  25.810000   \n",
              "33392  3501 Biscayne Blvd, Miami, FL 33137, United St...  25.810000   \n",
              "33393  3501 Biscayne Blvd, Miami, FL 33137, United St...  25.810000   \n",
              "33394  3501 Biscayne Blvd, Miami, FL 33137, United St...  25.810000   \n",
              "33395  3501 Biscayne Blvd, Miami, FL 33137, United St...  25.810000   \n",
              "\n",
              "       longitude rating_count   review_time  \\\n",
              "0     -97.792874        1,240  3 months ago   \n",
              "1     -97.792874        1,240    5 days ago   \n",
              "2     -97.792874        1,240    5 days ago   \n",
              "3     -97.792874        1,240   a month ago   \n",
              "4     -97.792874        1,240  2 months ago   \n",
              "...          ...          ...           ...   \n",
              "33391 -80.189098        2,810   4 years ago   \n",
              "33392 -80.189098        2,810    a year ago   \n",
              "33393 -80.189098        2,810    a year ago   \n",
              "33394 -80.189098        2,810   5 years ago   \n",
              "33395 -80.189098        2,810   2 years ago   \n",
              "\n",
              "                                                  review   rating  \n",
              "0      Why does it look like someone spit on my food?...   1 star  \n",
              "1      It'd McDonalds. It is what it is as far as the...  4 stars  \n",
              "2      Made a mobile order got to the speaker and che...   1 star  \n",
              "3      My mc. Crispy chicken sandwich was ï¿½ï¿½ï¿½ï¿...  5 stars  \n",
              "4      I repeat my order 3 times in the drive thru, a...   1 star  \n",
              "...                                                  ...      ...  \n",
              "33391                        They treated me very badly.   1 star  \n",
              "33392                           The service is very good  5 stars  \n",
              "33393                         To remove hunger is enough  4 stars  \n",
              "33394  It's good, but lately it has become very expen...  5 stars  \n",
              "33395                          they took good care of me  5 stars  \n",
              "\n",
              "[33396 rows x 10 columns]"
            ],
            "text/html": [
              "\n",
              "  <div id=\"df-fd7c2f16-149d-4c05-98af-9d5f9c31c2a7\" class=\"colab-df-container\">\n",
              "    <div>\n",
              "<style scoped>\n",
              "    .dataframe tbody tr th:only-of-type {\n",
              "        vertical-align: middle;\n",
              "    }\n",
              "\n",
              "    .dataframe tbody tr th {\n",
              "        vertical-align: top;\n",
              "    }\n",
              "\n",
              "    .dataframe thead th {\n",
              "        text-align: right;\n",
              "    }\n",
              "</style>\n",
              "<table border=\"1\" class=\"dataframe\">\n",
              "  <thead>\n",
              "    <tr style=\"text-align: right;\">\n",
              "      <th></th>\n",
              "      <th>reviewer_id</th>\n",
              "      <th>store_name</th>\n",
              "      <th>category</th>\n",
              "      <th>store_address</th>\n",
              "      <th>latitude</th>\n",
              "      <th>longitude</th>\n",
              "      <th>rating_count</th>\n",
              "      <th>review_time</th>\n",
              "      <th>review</th>\n",
              "      <th>rating</th>\n",
              "    </tr>\n",
              "  </thead>\n",
              "  <tbody>\n",
              "    <tr>\n",
              "      <th>0</th>\n",
              "      <td>1</td>\n",
              "      <td>McDonald's</td>\n",
              "      <td>Fast food restaurant</td>\n",
              "      <td>13749 US-183 Hwy, Austin, TX 78750, United States</td>\n",
              "      <td>30.460718</td>\n",
              "      <td>-97.792874</td>\n",
              "      <td>1,240</td>\n",
              "      <td>3 months ago</td>\n",
              "      <td>Why does it look like someone spit on my food?...</td>\n",
              "      <td>1 star</td>\n",
              "    </tr>\n",
              "    <tr>\n",
              "      <th>1</th>\n",
              "      <td>2</td>\n",
              "      <td>McDonald's</td>\n",
              "      <td>Fast food restaurant</td>\n",
              "      <td>13749 US-183 Hwy, Austin, TX 78750, United States</td>\n",
              "      <td>30.460718</td>\n",
              "      <td>-97.792874</td>\n",
              "      <td>1,240</td>\n",
              "      <td>5 days ago</td>\n",
              "      <td>It'd McDonalds. It is what it is as far as the...</td>\n",
              "      <td>4 stars</td>\n",
              "    </tr>\n",
              "    <tr>\n",
              "      <th>2</th>\n",
              "      <td>3</td>\n",
              "      <td>McDonald's</td>\n",
              "      <td>Fast food restaurant</td>\n",
              "      <td>13749 US-183 Hwy, Austin, TX 78750, United States</td>\n",
              "      <td>30.460718</td>\n",
              "      <td>-97.792874</td>\n",
              "      <td>1,240</td>\n",
              "      <td>5 days ago</td>\n",
              "      <td>Made a mobile order got to the speaker and che...</td>\n",
              "      <td>1 star</td>\n",
              "    </tr>\n",
              "    <tr>\n",
              "      <th>3</th>\n",
              "      <td>4</td>\n",
              "      <td>McDonald's</td>\n",
              "      <td>Fast food restaurant</td>\n",
              "      <td>13749 US-183 Hwy, Austin, TX 78750, United States</td>\n",
              "      <td>30.460718</td>\n",
              "      <td>-97.792874</td>\n",
              "      <td>1,240</td>\n",
              "      <td>a month ago</td>\n",
              "      <td>My mc. Crispy chicken sandwich was ï¿½ï¿½ï¿½ï¿...</td>\n",
              "      <td>5 stars</td>\n",
              "    </tr>\n",
              "    <tr>\n",
              "      <th>4</th>\n",
              "      <td>5</td>\n",
              "      <td>McDonald's</td>\n",
              "      <td>Fast food restaurant</td>\n",
              "      <td>13749 US-183 Hwy, Austin, TX 78750, United States</td>\n",
              "      <td>30.460718</td>\n",
              "      <td>-97.792874</td>\n",
              "      <td>1,240</td>\n",
              "      <td>2 months ago</td>\n",
              "      <td>I repeat my order 3 times in the drive thru, a...</td>\n",
              "      <td>1 star</td>\n",
              "    </tr>\n",
              "    <tr>\n",
              "      <th>...</th>\n",
              "      <td>...</td>\n",
              "      <td>...</td>\n",
              "      <td>...</td>\n",
              "      <td>...</td>\n",
              "      <td>...</td>\n",
              "      <td>...</td>\n",
              "      <td>...</td>\n",
              "      <td>...</td>\n",
              "      <td>...</td>\n",
              "      <td>...</td>\n",
              "    </tr>\n",
              "    <tr>\n",
              "      <th>33391</th>\n",
              "      <td>33392</td>\n",
              "      <td>McDonald's</td>\n",
              "      <td>Fast food restaurant</td>\n",
              "      <td>3501 Biscayne Blvd, Miami, FL 33137, United St...</td>\n",
              "      <td>25.810000</td>\n",
              "      <td>-80.189098</td>\n",
              "      <td>2,810</td>\n",
              "      <td>4 years ago</td>\n",
              "      <td>They treated me very badly.</td>\n",
              "      <td>1 star</td>\n",
              "    </tr>\n",
              "    <tr>\n",
              "      <th>33392</th>\n",
              "      <td>33393</td>\n",
              "      <td>McDonald's</td>\n",
              "      <td>Fast food restaurant</td>\n",
              "      <td>3501 Biscayne Blvd, Miami, FL 33137, United St...</td>\n",
              "      <td>25.810000</td>\n",
              "      <td>-80.189098</td>\n",
              "      <td>2,810</td>\n",
              "      <td>a year ago</td>\n",
              "      <td>The service is very good</td>\n",
              "      <td>5 stars</td>\n",
              "    </tr>\n",
              "    <tr>\n",
              "      <th>33393</th>\n",
              "      <td>33394</td>\n",
              "      <td>McDonald's</td>\n",
              "      <td>Fast food restaurant</td>\n",
              "      <td>3501 Biscayne Blvd, Miami, FL 33137, United St...</td>\n",
              "      <td>25.810000</td>\n",
              "      <td>-80.189098</td>\n",
              "      <td>2,810</td>\n",
              "      <td>a year ago</td>\n",
              "      <td>To remove hunger is enough</td>\n",
              "      <td>4 stars</td>\n",
              "    </tr>\n",
              "    <tr>\n",
              "      <th>33394</th>\n",
              "      <td>33395</td>\n",
              "      <td>McDonald's</td>\n",
              "      <td>Fast food restaurant</td>\n",
              "      <td>3501 Biscayne Blvd, Miami, FL 33137, United St...</td>\n",
              "      <td>25.810000</td>\n",
              "      <td>-80.189098</td>\n",
              "      <td>2,810</td>\n",
              "      <td>5 years ago</td>\n",
              "      <td>It's good, but lately it has become very expen...</td>\n",
              "      <td>5 stars</td>\n",
              "    </tr>\n",
              "    <tr>\n",
              "      <th>33395</th>\n",
              "      <td>33396</td>\n",
              "      <td>McDonald's</td>\n",
              "      <td>Fast food restaurant</td>\n",
              "      <td>3501 Biscayne Blvd, Miami, FL 33137, United St...</td>\n",
              "      <td>25.810000</td>\n",
              "      <td>-80.189098</td>\n",
              "      <td>2,810</td>\n",
              "      <td>2 years ago</td>\n",
              "      <td>they took good care of me</td>\n",
              "      <td>5 stars</td>\n",
              "    </tr>\n",
              "  </tbody>\n",
              "</table>\n",
              "<p>33396 rows × 10 columns</p>\n",
              "</div>\n",
              "    <div class=\"colab-df-buttons\">\n",
              "\n",
              "  <div class=\"colab-df-container\">\n",
              "    <button class=\"colab-df-convert\" onclick=\"convertToInteractive('df-fd7c2f16-149d-4c05-98af-9d5f9c31c2a7')\"\n",
              "            title=\"Convert this dataframe to an interactive table.\"\n",
              "            style=\"display:none;\">\n",
              "\n",
              "  <svg xmlns=\"http://www.w3.org/2000/svg\" height=\"24px\" viewBox=\"0 -960 960 960\">\n",
              "    <path d=\"M120-120v-720h720v720H120Zm60-500h600v-160H180v160Zm220 220h160v-160H400v160Zm0 220h160v-160H400v160ZM180-400h160v-160H180v160Zm440 0h160v-160H620v160ZM180-180h160v-160H180v160Zm440 0h160v-160H620v160Z\"/>\n",
              "  </svg>\n",
              "    </button>\n",
              "\n",
              "  <style>\n",
              "    .colab-df-container {\n",
              "      display:flex;\n",
              "      gap: 12px;\n",
              "    }\n",
              "\n",
              "    .colab-df-convert {\n",
              "      background-color: #E8F0FE;\n",
              "      border: none;\n",
              "      border-radius: 50%;\n",
              "      cursor: pointer;\n",
              "      display: none;\n",
              "      fill: #1967D2;\n",
              "      height: 32px;\n",
              "      padding: 0 0 0 0;\n",
              "      width: 32px;\n",
              "    }\n",
              "\n",
              "    .colab-df-convert:hover {\n",
              "      background-color: #E2EBFA;\n",
              "      box-shadow: 0px 1px 2px rgba(60, 64, 67, 0.3), 0px 1px 3px 1px rgba(60, 64, 67, 0.15);\n",
              "      fill: #174EA6;\n",
              "    }\n",
              "\n",
              "    .colab-df-buttons div {\n",
              "      margin-bottom: 4px;\n",
              "    }\n",
              "\n",
              "    [theme=dark] .colab-df-convert {\n",
              "      background-color: #3B4455;\n",
              "      fill: #D2E3FC;\n",
              "    }\n",
              "\n",
              "    [theme=dark] .colab-df-convert:hover {\n",
              "      background-color: #434B5C;\n",
              "      box-shadow: 0px 1px 3px 1px rgba(0, 0, 0, 0.15);\n",
              "      filter: drop-shadow(0px 1px 2px rgba(0, 0, 0, 0.3));\n",
              "      fill: #FFFFFF;\n",
              "    }\n",
              "  </style>\n",
              "\n",
              "    <script>\n",
              "      const buttonEl =\n",
              "        document.querySelector('#df-fd7c2f16-149d-4c05-98af-9d5f9c31c2a7 button.colab-df-convert');\n",
              "      buttonEl.style.display =\n",
              "        google.colab.kernel.accessAllowed ? 'block' : 'none';\n",
              "\n",
              "      async function convertToInteractive(key) {\n",
              "        const element = document.querySelector('#df-fd7c2f16-149d-4c05-98af-9d5f9c31c2a7');\n",
              "        const dataTable =\n",
              "          await google.colab.kernel.invokeFunction('convertToInteractive',\n",
              "                                                    [key], {});\n",
              "        if (!dataTable) return;\n",
              "\n",
              "        const docLinkHtml = 'Like what you see? Visit the ' +\n",
              "          '<a target=\"_blank\" href=https://colab.research.google.com/notebooks/data_table.ipynb>data table notebook</a>'\n",
              "          + ' to learn more about interactive tables.';\n",
              "        element.innerHTML = '';\n",
              "        dataTable['output_type'] = 'display_data';\n",
              "        await google.colab.output.renderOutput(dataTable, element);\n",
              "        const docLink = document.createElement('div');\n",
              "        docLink.innerHTML = docLinkHtml;\n",
              "        element.appendChild(docLink);\n",
              "      }\n",
              "    </script>\n",
              "  </div>\n",
              "\n",
              "\n",
              "<div id=\"df-e9f02f89-8e40-48c9-930a-b08cab307695\">\n",
              "  <button class=\"colab-df-quickchart\" onclick=\"quickchart('df-e9f02f89-8e40-48c9-930a-b08cab307695')\"\n",
              "            title=\"Suggest charts.\"\n",
              "            style=\"display:none;\">\n",
              "\n",
              "<svg xmlns=\"http://www.w3.org/2000/svg\" height=\"24px\"viewBox=\"0 0 24 24\"\n",
              "     width=\"24px\">\n",
              "    <g>\n",
              "        <path d=\"M19 3H5c-1.1 0-2 .9-2 2v14c0 1.1.9 2 2 2h14c1.1 0 2-.9 2-2V5c0-1.1-.9-2-2-2zM9 17H7v-7h2v7zm4 0h-2V7h2v10zm4 0h-2v-4h2v4z\"/>\n",
              "    </g>\n",
              "</svg>\n",
              "  </button>\n",
              "\n",
              "<style>\n",
              "  .colab-df-quickchart {\n",
              "    background-color: #E8F0FE;\n",
              "    border: none;\n",
              "    border-radius: 50%;\n",
              "    cursor: pointer;\n",
              "    display: none;\n",
              "    fill: #1967D2;\n",
              "    height: 32px;\n",
              "    padding: 0 0 0 0;\n",
              "    width: 32px;\n",
              "  }\n",
              "\n",
              "  .colab-df-quickchart:hover {\n",
              "    background-color: #E2EBFA;\n",
              "    box-shadow: 0px 1px 2px rgba(60, 64, 67, 0.3), 0px 1px 3px 1px rgba(60, 64, 67, 0.15);\n",
              "    fill: #174EA6;\n",
              "  }\n",
              "\n",
              "  [theme=dark] .colab-df-quickchart {\n",
              "    background-color: #3B4455;\n",
              "    fill: #D2E3FC;\n",
              "  }\n",
              "\n",
              "  [theme=dark] .colab-df-quickchart:hover {\n",
              "    background-color: #434B5C;\n",
              "    box-shadow: 0px 1px 3px 1px rgba(0, 0, 0, 0.15);\n",
              "    filter: drop-shadow(0px 1px 2px rgba(0, 0, 0, 0.3));\n",
              "    fill: #FFFFFF;\n",
              "  }\n",
              "</style>\n",
              "\n",
              "  <script>\n",
              "    async function quickchart(key) {\n",
              "      const charts = await google.colab.kernel.invokeFunction(\n",
              "          'suggestCharts', [key], {});\n",
              "    }\n",
              "    (() => {\n",
              "      let quickchartButtonEl =\n",
              "        document.querySelector('#df-e9f02f89-8e40-48c9-930a-b08cab307695 button');\n",
              "      quickchartButtonEl.style.display =\n",
              "        google.colab.kernel.accessAllowed ? 'block' : 'none';\n",
              "    })();\n",
              "  </script>\n",
              "</div>\n",
              "    </div>\n",
              "  </div>\n"
            ]
          },
          "metadata": {},
          "execution_count": 4
        }
      ]
    },
    {
      "cell_type": "markdown",
      "source": [
        "# Getting the Data Ready and preprocessing"
      ],
      "metadata": {
        "id": "3zSC80qD5SCp"
      }
    },
    {
      "cell_type": "code",
      "source": [
        " df['Labels'] = np.where(df['rating'] > '3 stars', 'Positive', np.where(df['rating'] < '3 starts', 'Negative', 'Neutral'))\n",
        "df"
      ],
      "metadata": {
        "id": "wWSUGsVPx8sm",
        "colab": {
          "base_uri": "https://localhost:8080/",
          "height": 771
        },
        "outputId": "aed5b0e7-6dd6-42b7-9d0b-c1b4097e8794"
      },
      "execution_count": 5,
      "outputs": [
        {
          "output_type": "execute_result",
          "data": {
            "text/plain": [
              "       reviewer_id  store_name              category  \\\n",
              "0                1  McDonald's  Fast food restaurant   \n",
              "1                2  McDonald's  Fast food restaurant   \n",
              "2                3  McDonald's  Fast food restaurant   \n",
              "3                4  McDonald's  Fast food restaurant   \n",
              "4                5  McDonald's  Fast food restaurant   \n",
              "...            ...         ...                   ...   \n",
              "33391        33392  McDonald's  Fast food restaurant   \n",
              "33392        33393  McDonald's  Fast food restaurant   \n",
              "33393        33394  McDonald's  Fast food restaurant   \n",
              "33394        33395  McDonald's  Fast food restaurant   \n",
              "33395        33396  McDonald's  Fast food restaurant   \n",
              "\n",
              "                                           store_address  latitude   \\\n",
              "0      13749 US-183 Hwy, Austin, TX 78750, United States  30.460718   \n",
              "1      13749 US-183 Hwy, Austin, TX 78750, United States  30.460718   \n",
              "2      13749 US-183 Hwy, Austin, TX 78750, United States  30.460718   \n",
              "3      13749 US-183 Hwy, Austin, TX 78750, United States  30.460718   \n",
              "4      13749 US-183 Hwy, Austin, TX 78750, United States  30.460718   \n",
              "...                                                  ...        ...   \n",
              "33391  3501 Biscayne Blvd, Miami, FL 33137, United St...  25.810000   \n",
              "33392  3501 Biscayne Blvd, Miami, FL 33137, United St...  25.810000   \n",
              "33393  3501 Biscayne Blvd, Miami, FL 33137, United St...  25.810000   \n",
              "33394  3501 Biscayne Blvd, Miami, FL 33137, United St...  25.810000   \n",
              "33395  3501 Biscayne Blvd, Miami, FL 33137, United St...  25.810000   \n",
              "\n",
              "       longitude rating_count   review_time  \\\n",
              "0     -97.792874        1,240  3 months ago   \n",
              "1     -97.792874        1,240    5 days ago   \n",
              "2     -97.792874        1,240    5 days ago   \n",
              "3     -97.792874        1,240   a month ago   \n",
              "4     -97.792874        1,240  2 months ago   \n",
              "...          ...          ...           ...   \n",
              "33391 -80.189098        2,810   4 years ago   \n",
              "33392 -80.189098        2,810    a year ago   \n",
              "33393 -80.189098        2,810    a year ago   \n",
              "33394 -80.189098        2,810   5 years ago   \n",
              "33395 -80.189098        2,810   2 years ago   \n",
              "\n",
              "                                                  review   rating    Labels  \n",
              "0      Why does it look like someone spit on my food?...   1 star  Negative  \n",
              "1      It'd McDonalds. It is what it is as far as the...  4 stars  Positive  \n",
              "2      Made a mobile order got to the speaker and che...   1 star  Negative  \n",
              "3      My mc. Crispy chicken sandwich was ï¿½ï¿½ï¿½ï¿...  5 stars  Positive  \n",
              "4      I repeat my order 3 times in the drive thru, a...   1 star  Negative  \n",
              "...                                                  ...      ...       ...  \n",
              "33391                        They treated me very badly.   1 star  Negative  \n",
              "33392                           The service is very good  5 stars  Positive  \n",
              "33393                         To remove hunger is enough  4 stars  Positive  \n",
              "33394  It's good, but lately it has become very expen...  5 stars  Positive  \n",
              "33395                          they took good care of me  5 stars  Positive  \n",
              "\n",
              "[33396 rows x 11 columns]"
            ],
            "text/html": [
              "\n",
              "  <div id=\"df-22389967-8d0c-4e54-a596-c2b38ddc1255\" class=\"colab-df-container\">\n",
              "    <div>\n",
              "<style scoped>\n",
              "    .dataframe tbody tr th:only-of-type {\n",
              "        vertical-align: middle;\n",
              "    }\n",
              "\n",
              "    .dataframe tbody tr th {\n",
              "        vertical-align: top;\n",
              "    }\n",
              "\n",
              "    .dataframe thead th {\n",
              "        text-align: right;\n",
              "    }\n",
              "</style>\n",
              "<table border=\"1\" class=\"dataframe\">\n",
              "  <thead>\n",
              "    <tr style=\"text-align: right;\">\n",
              "      <th></th>\n",
              "      <th>reviewer_id</th>\n",
              "      <th>store_name</th>\n",
              "      <th>category</th>\n",
              "      <th>store_address</th>\n",
              "      <th>latitude</th>\n",
              "      <th>longitude</th>\n",
              "      <th>rating_count</th>\n",
              "      <th>review_time</th>\n",
              "      <th>review</th>\n",
              "      <th>rating</th>\n",
              "      <th>Labels</th>\n",
              "    </tr>\n",
              "  </thead>\n",
              "  <tbody>\n",
              "    <tr>\n",
              "      <th>0</th>\n",
              "      <td>1</td>\n",
              "      <td>McDonald's</td>\n",
              "      <td>Fast food restaurant</td>\n",
              "      <td>13749 US-183 Hwy, Austin, TX 78750, United States</td>\n",
              "      <td>30.460718</td>\n",
              "      <td>-97.792874</td>\n",
              "      <td>1,240</td>\n",
              "      <td>3 months ago</td>\n",
              "      <td>Why does it look like someone spit on my food?...</td>\n",
              "      <td>1 star</td>\n",
              "      <td>Negative</td>\n",
              "    </tr>\n",
              "    <tr>\n",
              "      <th>1</th>\n",
              "      <td>2</td>\n",
              "      <td>McDonald's</td>\n",
              "      <td>Fast food restaurant</td>\n",
              "      <td>13749 US-183 Hwy, Austin, TX 78750, United States</td>\n",
              "      <td>30.460718</td>\n",
              "      <td>-97.792874</td>\n",
              "      <td>1,240</td>\n",
              "      <td>5 days ago</td>\n",
              "      <td>It'd McDonalds. It is what it is as far as the...</td>\n",
              "      <td>4 stars</td>\n",
              "      <td>Positive</td>\n",
              "    </tr>\n",
              "    <tr>\n",
              "      <th>2</th>\n",
              "      <td>3</td>\n",
              "      <td>McDonald's</td>\n",
              "      <td>Fast food restaurant</td>\n",
              "      <td>13749 US-183 Hwy, Austin, TX 78750, United States</td>\n",
              "      <td>30.460718</td>\n",
              "      <td>-97.792874</td>\n",
              "      <td>1,240</td>\n",
              "      <td>5 days ago</td>\n",
              "      <td>Made a mobile order got to the speaker and che...</td>\n",
              "      <td>1 star</td>\n",
              "      <td>Negative</td>\n",
              "    </tr>\n",
              "    <tr>\n",
              "      <th>3</th>\n",
              "      <td>4</td>\n",
              "      <td>McDonald's</td>\n",
              "      <td>Fast food restaurant</td>\n",
              "      <td>13749 US-183 Hwy, Austin, TX 78750, United States</td>\n",
              "      <td>30.460718</td>\n",
              "      <td>-97.792874</td>\n",
              "      <td>1,240</td>\n",
              "      <td>a month ago</td>\n",
              "      <td>My mc. Crispy chicken sandwich was ï¿½ï¿½ï¿½ï¿...</td>\n",
              "      <td>5 stars</td>\n",
              "      <td>Positive</td>\n",
              "    </tr>\n",
              "    <tr>\n",
              "      <th>4</th>\n",
              "      <td>5</td>\n",
              "      <td>McDonald's</td>\n",
              "      <td>Fast food restaurant</td>\n",
              "      <td>13749 US-183 Hwy, Austin, TX 78750, United States</td>\n",
              "      <td>30.460718</td>\n",
              "      <td>-97.792874</td>\n",
              "      <td>1,240</td>\n",
              "      <td>2 months ago</td>\n",
              "      <td>I repeat my order 3 times in the drive thru, a...</td>\n",
              "      <td>1 star</td>\n",
              "      <td>Negative</td>\n",
              "    </tr>\n",
              "    <tr>\n",
              "      <th>...</th>\n",
              "      <td>...</td>\n",
              "      <td>...</td>\n",
              "      <td>...</td>\n",
              "      <td>...</td>\n",
              "      <td>...</td>\n",
              "      <td>...</td>\n",
              "      <td>...</td>\n",
              "      <td>...</td>\n",
              "      <td>...</td>\n",
              "      <td>...</td>\n",
              "      <td>...</td>\n",
              "    </tr>\n",
              "    <tr>\n",
              "      <th>33391</th>\n",
              "      <td>33392</td>\n",
              "      <td>McDonald's</td>\n",
              "      <td>Fast food restaurant</td>\n",
              "      <td>3501 Biscayne Blvd, Miami, FL 33137, United St...</td>\n",
              "      <td>25.810000</td>\n",
              "      <td>-80.189098</td>\n",
              "      <td>2,810</td>\n",
              "      <td>4 years ago</td>\n",
              "      <td>They treated me very badly.</td>\n",
              "      <td>1 star</td>\n",
              "      <td>Negative</td>\n",
              "    </tr>\n",
              "    <tr>\n",
              "      <th>33392</th>\n",
              "      <td>33393</td>\n",
              "      <td>McDonald's</td>\n",
              "      <td>Fast food restaurant</td>\n",
              "      <td>3501 Biscayne Blvd, Miami, FL 33137, United St...</td>\n",
              "      <td>25.810000</td>\n",
              "      <td>-80.189098</td>\n",
              "      <td>2,810</td>\n",
              "      <td>a year ago</td>\n",
              "      <td>The service is very good</td>\n",
              "      <td>5 stars</td>\n",
              "      <td>Positive</td>\n",
              "    </tr>\n",
              "    <tr>\n",
              "      <th>33393</th>\n",
              "      <td>33394</td>\n",
              "      <td>McDonald's</td>\n",
              "      <td>Fast food restaurant</td>\n",
              "      <td>3501 Biscayne Blvd, Miami, FL 33137, United St...</td>\n",
              "      <td>25.810000</td>\n",
              "      <td>-80.189098</td>\n",
              "      <td>2,810</td>\n",
              "      <td>a year ago</td>\n",
              "      <td>To remove hunger is enough</td>\n",
              "      <td>4 stars</td>\n",
              "      <td>Positive</td>\n",
              "    </tr>\n",
              "    <tr>\n",
              "      <th>33394</th>\n",
              "      <td>33395</td>\n",
              "      <td>McDonald's</td>\n",
              "      <td>Fast food restaurant</td>\n",
              "      <td>3501 Biscayne Blvd, Miami, FL 33137, United St...</td>\n",
              "      <td>25.810000</td>\n",
              "      <td>-80.189098</td>\n",
              "      <td>2,810</td>\n",
              "      <td>5 years ago</td>\n",
              "      <td>It's good, but lately it has become very expen...</td>\n",
              "      <td>5 stars</td>\n",
              "      <td>Positive</td>\n",
              "    </tr>\n",
              "    <tr>\n",
              "      <th>33395</th>\n",
              "      <td>33396</td>\n",
              "      <td>McDonald's</td>\n",
              "      <td>Fast food restaurant</td>\n",
              "      <td>3501 Biscayne Blvd, Miami, FL 33137, United St...</td>\n",
              "      <td>25.810000</td>\n",
              "      <td>-80.189098</td>\n",
              "      <td>2,810</td>\n",
              "      <td>2 years ago</td>\n",
              "      <td>they took good care of me</td>\n",
              "      <td>5 stars</td>\n",
              "      <td>Positive</td>\n",
              "    </tr>\n",
              "  </tbody>\n",
              "</table>\n",
              "<p>33396 rows × 11 columns</p>\n",
              "</div>\n",
              "    <div class=\"colab-df-buttons\">\n",
              "\n",
              "  <div class=\"colab-df-container\">\n",
              "    <button class=\"colab-df-convert\" onclick=\"convertToInteractive('df-22389967-8d0c-4e54-a596-c2b38ddc1255')\"\n",
              "            title=\"Convert this dataframe to an interactive table.\"\n",
              "            style=\"display:none;\">\n",
              "\n",
              "  <svg xmlns=\"http://www.w3.org/2000/svg\" height=\"24px\" viewBox=\"0 -960 960 960\">\n",
              "    <path d=\"M120-120v-720h720v720H120Zm60-500h600v-160H180v160Zm220 220h160v-160H400v160Zm0 220h160v-160H400v160ZM180-400h160v-160H180v160Zm440 0h160v-160H620v160ZM180-180h160v-160H180v160Zm440 0h160v-160H620v160Z\"/>\n",
              "  </svg>\n",
              "    </button>\n",
              "\n",
              "  <style>\n",
              "    .colab-df-container {\n",
              "      display:flex;\n",
              "      gap: 12px;\n",
              "    }\n",
              "\n",
              "    .colab-df-convert {\n",
              "      background-color: #E8F0FE;\n",
              "      border: none;\n",
              "      border-radius: 50%;\n",
              "      cursor: pointer;\n",
              "      display: none;\n",
              "      fill: #1967D2;\n",
              "      height: 32px;\n",
              "      padding: 0 0 0 0;\n",
              "      width: 32px;\n",
              "    }\n",
              "\n",
              "    .colab-df-convert:hover {\n",
              "      background-color: #E2EBFA;\n",
              "      box-shadow: 0px 1px 2px rgba(60, 64, 67, 0.3), 0px 1px 3px 1px rgba(60, 64, 67, 0.15);\n",
              "      fill: #174EA6;\n",
              "    }\n",
              "\n",
              "    .colab-df-buttons div {\n",
              "      margin-bottom: 4px;\n",
              "    }\n",
              "\n",
              "    [theme=dark] .colab-df-convert {\n",
              "      background-color: #3B4455;\n",
              "      fill: #D2E3FC;\n",
              "    }\n",
              "\n",
              "    [theme=dark] .colab-df-convert:hover {\n",
              "      background-color: #434B5C;\n",
              "      box-shadow: 0px 1px 3px 1px rgba(0, 0, 0, 0.15);\n",
              "      filter: drop-shadow(0px 1px 2px rgba(0, 0, 0, 0.3));\n",
              "      fill: #FFFFFF;\n",
              "    }\n",
              "  </style>\n",
              "\n",
              "    <script>\n",
              "      const buttonEl =\n",
              "        document.querySelector('#df-22389967-8d0c-4e54-a596-c2b38ddc1255 button.colab-df-convert');\n",
              "      buttonEl.style.display =\n",
              "        google.colab.kernel.accessAllowed ? 'block' : 'none';\n",
              "\n",
              "      async function convertToInteractive(key) {\n",
              "        const element = document.querySelector('#df-22389967-8d0c-4e54-a596-c2b38ddc1255');\n",
              "        const dataTable =\n",
              "          await google.colab.kernel.invokeFunction('convertToInteractive',\n",
              "                                                    [key], {});\n",
              "        if (!dataTable) return;\n",
              "\n",
              "        const docLinkHtml = 'Like what you see? Visit the ' +\n",
              "          '<a target=\"_blank\" href=https://colab.research.google.com/notebooks/data_table.ipynb>data table notebook</a>'\n",
              "          + ' to learn more about interactive tables.';\n",
              "        element.innerHTML = '';\n",
              "        dataTable['output_type'] = 'display_data';\n",
              "        await google.colab.output.renderOutput(dataTable, element);\n",
              "        const docLink = document.createElement('div');\n",
              "        docLink.innerHTML = docLinkHtml;\n",
              "        element.appendChild(docLink);\n",
              "      }\n",
              "    </script>\n",
              "  </div>\n",
              "\n",
              "\n",
              "<div id=\"df-b28085a2-8051-4ca4-bed8-79c53f181b6c\">\n",
              "  <button class=\"colab-df-quickchart\" onclick=\"quickchart('df-b28085a2-8051-4ca4-bed8-79c53f181b6c')\"\n",
              "            title=\"Suggest charts.\"\n",
              "            style=\"display:none;\">\n",
              "\n",
              "<svg xmlns=\"http://www.w3.org/2000/svg\" height=\"24px\"viewBox=\"0 0 24 24\"\n",
              "     width=\"24px\">\n",
              "    <g>\n",
              "        <path d=\"M19 3H5c-1.1 0-2 .9-2 2v14c0 1.1.9 2 2 2h14c1.1 0 2-.9 2-2V5c0-1.1-.9-2-2-2zM9 17H7v-7h2v7zm4 0h-2V7h2v10zm4 0h-2v-4h2v4z\"/>\n",
              "    </g>\n",
              "</svg>\n",
              "  </button>\n",
              "\n",
              "<style>\n",
              "  .colab-df-quickchart {\n",
              "    background-color: #E8F0FE;\n",
              "    border: none;\n",
              "    border-radius: 50%;\n",
              "    cursor: pointer;\n",
              "    display: none;\n",
              "    fill: #1967D2;\n",
              "    height: 32px;\n",
              "    padding: 0 0 0 0;\n",
              "    width: 32px;\n",
              "  }\n",
              "\n",
              "  .colab-df-quickchart:hover {\n",
              "    background-color: #E2EBFA;\n",
              "    box-shadow: 0px 1px 2px rgba(60, 64, 67, 0.3), 0px 1px 3px 1px rgba(60, 64, 67, 0.15);\n",
              "    fill: #174EA6;\n",
              "  }\n",
              "\n",
              "  [theme=dark] .colab-df-quickchart {\n",
              "    background-color: #3B4455;\n",
              "    fill: #D2E3FC;\n",
              "  }\n",
              "\n",
              "  [theme=dark] .colab-df-quickchart:hover {\n",
              "    background-color: #434B5C;\n",
              "    box-shadow: 0px 1px 3px 1px rgba(0, 0, 0, 0.15);\n",
              "    filter: drop-shadow(0px 1px 2px rgba(0, 0, 0, 0.3));\n",
              "    fill: #FFFFFF;\n",
              "  }\n",
              "</style>\n",
              "\n",
              "  <script>\n",
              "    async function quickchart(key) {\n",
              "      const charts = await google.colab.kernel.invokeFunction(\n",
              "          'suggestCharts', [key], {});\n",
              "    }\n",
              "    (() => {\n",
              "      let quickchartButtonEl =\n",
              "        document.querySelector('#df-b28085a2-8051-4ca4-bed8-79c53f181b6c button');\n",
              "      quickchartButtonEl.style.display =\n",
              "        google.colab.kernel.accessAllowed ? 'block' : 'none';\n",
              "    })();\n",
              "  </script>\n",
              "</div>\n",
              "    </div>\n",
              "  </div>\n"
            ]
          },
          "metadata": {},
          "execution_count": 5
        }
      ]
    },
    {
      "cell_type": "code",
      "source": [
        "x = df[\"review\"]\n",
        "y =df[\"Labels\"]\n",
        "x"
      ],
      "metadata": {
        "colab": {
          "base_uri": "https://localhost:8080/"
        },
        "id": "0awAhI-944Vt",
        "outputId": "8169ae6c-9200-4d8f-fdd7-05397b8d937e"
      },
      "execution_count": 6,
      "outputs": [
        {
          "output_type": "execute_result",
          "data": {
            "text/plain": [
              "0        Why does it look like someone spit on my food?...\n",
              "1        It'd McDonalds. It is what it is as far as the...\n",
              "2        Made a mobile order got to the speaker and che...\n",
              "3        My mc. Crispy chicken sandwich was ï¿½ï¿½ï¿½ï¿...\n",
              "4        I repeat my order 3 times in the drive thru, a...\n",
              "                               ...                        \n",
              "33391                          They treated me very badly.\n",
              "33392                             The service is very good\n",
              "33393                           To remove hunger is enough\n",
              "33394    It's good, but lately it has become very expen...\n",
              "33395                            they took good care of me\n",
              "Name: review, Length: 33396, dtype: object"
            ]
          },
          "metadata": {},
          "execution_count": 6
        }
      ]
    },
    {
      "cell_type": "code",
      "source": [],
      "metadata": {
        "id": "uyHY5ebP44tc"
      },
      "execution_count": 5,
      "outputs": []
    },
    {
      "cell_type": "markdown",
      "source": [
        "## Data Cleaning and preprocessing"
      ],
      "metadata": {
        "id": "hLA9gWqa5ssa"
      }
    },
    {
      "cell_type": "code",
      "source": [
        "cr = (r'[^a-zA-Z0-9\\s]')\n",
        "for i in cr:\n",
        "  df['review']= df['review'].str.replace(cr, '')\n",
        "x= df['review']\n",
        "x"
      ],
      "metadata": {
        "colab": {
          "base_uri": "https://localhost:8080/"
        },
        "id": "PJ1cVWe64472",
        "outputId": "320d2e0b-c676-46fd-a615-8993bb694e02"
      },
      "execution_count": 7,
      "outputs": [
        {
          "output_type": "stream",
          "name": "stderr",
          "text": [
            "<ipython-input-7-3223c9472834>:3: FutureWarning: The default value of regex will change from True to False in a future version.\n",
            "  df['review']= df['review'].str.replace(cr, '')\n"
          ]
        },
        {
          "output_type": "execute_result",
          "data": {
            "text/plain": [
              "0        Why does it look like someone spit on my food\\...\n",
              "1        Itd McDonalds It is what it is as far as the f...\n",
              "2        Made a mobile order got to the speaker and che...\n",
              "3        My mc Crispy chicken sandwich was  customer se...\n",
              "4        I repeat my order 3 times in the drive thru an...\n",
              "                               ...                        \n",
              "33391                           They treated me very badly\n",
              "33392                             The service is very good\n",
              "33393                           To remove hunger is enough\n",
              "33394     Its good but lately it has become very expensive\n",
              "33395                            they took good care of me\n",
              "Name: review, Length: 33396, dtype: object"
            ]
          },
          "metadata": {},
          "execution_count": 7
        }
      ]
    },
    {
      "cell_type": "code",
      "source": [
        "x = x.str.lower()\n",
        "x"
      ],
      "metadata": {
        "colab": {
          "base_uri": "https://localhost:8080/"
        },
        "id": "cfErk-YT6JcN",
        "outputId": "c4553176-22bc-4b7e-ca3b-c534822771ee"
      },
      "execution_count": 8,
      "outputs": [
        {
          "output_type": "execute_result",
          "data": {
            "text/plain": [
              "0        why does it look like someone spit on my food\\...\n",
              "1        itd mcdonalds it is what it is as far as the f...\n",
              "2        made a mobile order got to the speaker and che...\n",
              "3        my mc crispy chicken sandwich was  customer se...\n",
              "4        i repeat my order 3 times in the drive thru an...\n",
              "                               ...                        \n",
              "33391                           they treated me very badly\n",
              "33392                             the service is very good\n",
              "33393                           to remove hunger is enough\n",
              "33394     its good but lately it has become very expensive\n",
              "33395                            they took good care of me\n",
              "Name: review, Length: 33396, dtype: object"
            ]
          },
          "metadata": {},
          "execution_count": 8
        }
      ]
    },
    {
      "cell_type": "markdown",
      "source": [
        "### Exploratory Data Analysis (EDA)"
      ],
      "metadata": {
        "id": "mVDGzHIK7DFC"
      }
    },
    {
      "cell_type": "code",
      "source": [
        "x.describe()"
      ],
      "metadata": {
        "colab": {
          "base_uri": "https://localhost:8080/"
        },
        "id": "F4C92rYo6nX0",
        "outputId": "de5b8a09-3d0c-47e7-fd97-76b5a626ac35"
      },
      "execution_count": 9,
      "outputs": [
        {
          "output_type": "execute_result",
          "data": {
            "text/plain": [
              "count          33396\n",
              "unique         21730\n",
              "top       excellent \n",
              "freq            2148\n",
              "Name: review, dtype: object"
            ]
          },
          "metadata": {},
          "execution_count": 9
        }
      ]
    },
    {
      "cell_type": "code",
      "source": [
        "# Text Length Analysis\n",
        "df['text_length'] = df['review'].apply(len)\n",
        "\n",
        "plt.figure(figsize=(6, 6))\n",
        "sns.histplot(data=df, x='text_length', hue=None,  bins=30)\n",
        "plt.title('Text Length by Sentiment')\n",
        "plt.xlabel('Text Length')\n",
        "plt.show()\n"
      ],
      "metadata": {
        "colab": {
          "base_uri": "https://localhost:8080/",
          "height": 564
        },
        "id": "Sd1FEsSa7I1I",
        "outputId": "729db48c-5ea7-432a-c78c-1829bf474f72"
      },
      "execution_count": 9,
      "outputs": [
        {
          "output_type": "display_data",
          "data": {
            "text/plain": [
              "<Figure size 600x600 with 1 Axes>"
            ],
            "image/png": "[encoded data removed]"
          },
          "metadata": {}
        }
      ]
    },
    {
      "cell_type": "markdown",
      "source": [
        "## Feature Engineering:\n"
      ],
      "metadata": {
        "id": "kcD0iFgs7Rl6"
      }
    },
    {
      "cell_type": "code",
      "source": [
        "# TF-IDF (Term Frequency-Inverse Document Frequency)\n",
        "vector = TfidfVectorizer()\n",
        "\n",
        "# Fit and transform\n",
        "\n",
        "tfidx_matrix = vector.fit_transform(x)\n",
        "\n",
        "# No converting matrix  into array\n",
        "\n",
        "x = tfidx_matrix.toarray()\n",
        "print (x)\n"
      ],
      "metadata": {
        "colab": {
          "base_uri": "https://localhost:8080/"
        },
        "id": "x_OWcO9o7L0C",
        "outputId": "606b4e4d-235b-49d6-d08e-701a7ea6560f"
      },
      "execution_count": 10,
      "outputs": [
        {
          "output_type": "stream",
          "name": "stdout",
          "text": [
            "[[0. 0. 0. ... 0. 0. 0.]\n",
            " [0. 0. 0. ... 0. 0. 0.]\n",
            " [0. 0. 0. ... 0. 0. 0.]\n",
            " ...\n",
            " [0. 0. 0. ... 0. 0. 0.]\n",
            " [0. 0. 0. ... 0. 0. 0.]\n",
            " [0. 0. 0. ... 0. 0. 0.]]\n"
          ]
        }
      ]
    },
    {
      "cell_type": "markdown",
      "source": [
        "## Model Selection :1 & Model Training\n",
        "**Machine Learning**"
      ],
      "metadata": {
        "id": "HaQNEsiI8Bfe"
      }
    },
    {
      "cell_type": "code",
      "source": [
        "# Use Logistic Regression\n",
        "np.random.seed(42)\n",
        "model = LogisticRegression()\n",
        "\n",
        "x_train, x_test, y_train, y_test = train_test_split(x,y, test_size = 0.20)"
      ],
      "metadata": {
        "id": "XSRvOJON7by2"
      },
      "execution_count": 42,
      "outputs": []
    },
    {
      "cell_type": "code",
      "source": [
        "# Fit the model in x and y\n",
        "model.fit(x_train, y_train)"
      ],
      "metadata": {
        "colab": {
          "base_uri": "https://localhost:8080/",
          "height": 75
        },
        "id": "MKCh1_2e-BXF",
        "outputId": "79a56268-663a-4db3-a39f-f536468a5cf2"
      },
      "execution_count": 43,
      "outputs": [
        {
          "output_type": "execute_result",
          "data": {
            "text/plain": [
              "LogisticRegression()"
            ],
            "text/html": [
              "<style>#sk-container-id-2 {color: black;background-color: white;}#sk-container-id-2 pre{padding: 0;}#sk-container-id-2 div.sk-toggleable {background-color: white;}#sk-container-id-2 label.sk-toggleable__label {cursor: pointer;display: block;width: 100%;margin-bottom: 0;padding: 0.3em;box-sizing: border-box;text-align: center;}#sk-container-id-2 label.sk-toggleable__label-arrow:before {content: \"▸\";float: left;margin-right: 0.25em;color: #696969;}#sk-container-id-2 label.sk-toggleable__label-arrow:hover:before {color: black;}#sk-container-id-2 div.sk-estimator:hover label.sk-toggleable__label-arrow:before {color: black;}#sk-container-id-2 div.sk-toggleable__content {max-height: 0;max-width: 0;overflow: hidden;text-align: left;background-color: #f0f8ff;}#sk-container-id-2 div.sk-toggleable__content pre {margin: 0.2em;color: black;border-radius: 0.25em;background-color: #f0f8ff;}#sk-container-id-2 input.sk-toggleable__control:checked~div.sk-toggleable__content {max-height: 200px;max-width: 100%;overflow: auto;}#sk-container-id-2 input.sk-toggleable__control:checked~label.sk-toggleable__label-arrow:before {content: \"▾\";}#sk-container-id-2 div.sk-estimator input.sk-toggleable__control:checked~label.sk-toggleable__label {background-color: #d4ebff;}#sk-container-id-2 div.sk-label input.sk-toggleable__control:checked~label.sk-toggleable__label {background-color: #d4ebff;}#sk-container-id-2 input.sk-hidden--visually {border: 0;clip: rect(1px 1px 1px 1px);clip: rect(1px, 1px, 1px, 1px);height: 1px;margin: -1px;overflow: hidden;padding: 0;position: absolute;width: 1px;}#sk-container-id-2 div.sk-estimator {font-family: monospace;background-color: #f0f8ff;border: 1px dotted black;border-radius: 0.25em;box-sizing: border-box;margin-bottom: 0.5em;}#sk-container-id-2 div.sk-estimator:hover {background-color: #d4ebff;}#sk-container-id-2 div.sk-parallel-item::after {content: \"\";width: 100%;border-bottom: 1px solid gray;flex-grow: 1;}#sk-container-id-2 div.sk-label:hover label.sk-toggleable__label {background-color: #d4ebff;}#sk-container-id-2 div.sk-serial::before {content: \"\";position: absolute;border-left: 1px solid gray;box-sizing: border-box;top: 0;bottom: 0;left: 50%;z-index: 0;}#sk-container-id-2 div.sk-serial {display: flex;flex-direction: column;align-items: center;background-color: white;padding-right: 0.2em;padding-left: 0.2em;position: relative;}#sk-container-id-2 div.sk-item {position: relative;z-index: 1;}#sk-container-id-2 div.sk-parallel {display: flex;align-items: stretch;justify-content: center;background-color: white;position: relative;}#sk-container-id-2 div.sk-item::before, #sk-container-id-2 div.sk-parallel-item::before {content: \"\";position: absolute;border-left: 1px solid gray;box-sizing: border-box;top: 0;bottom: 0;left: 50%;z-index: -1;}#sk-container-id-2 div.sk-parallel-item {display: flex;flex-direction: column;z-index: 1;position: relative;background-color: white;}#sk-container-id-2 div.sk-parallel-item:first-child::after {align-self: flex-end;width: 50%;}#sk-container-id-2 div.sk-parallel-item:last-child::after {align-self: flex-start;width: 50%;}#sk-container-id-2 div.sk-parallel-item:only-child::after {width: 0;}#sk-container-id-2 div.sk-dashed-wrapped {border: 1px dashed gray;margin: 0 0.4em 0.5em 0.4em;box-sizing: border-box;padding-bottom: 0.4em;background-color: white;}#sk-container-id-2 div.sk-label label {font-family: monospace;font-weight: bold;display: inline-block;line-height: 1.2em;}#sk-container-id-2 div.sk-label-container {text-align: center;}#sk-container-id-2 div.sk-container {/* jupyter's `normalize.less` sets `[hidden] { display: none; }` but bootstrap.min.css set `[hidden] { display: none !important; }` so we also need the `!important` here to be able to override the default hidden behavior on the sphinx rendered scikit-learn.org. See: https://github.com/scikit-learn/scikit-learn/issues/21755 */display: inline-block !important;position: relative;}#sk-container-id-2 div.sk-text-repr-fallback {display: none;}</style><div id=\"sk-container-id-2\" class=\"sk-top-container\"><div class=\"sk-text-repr-fallback\"><pre>LogisticRegression()</pre><b>In a Jupyter environment, please rerun this cell to show the HTML representation or trust the notebook. <br />On GitHub, the HTML representation is unable to render, please try loading this page with nbviewer.org.</b></div><div class=\"sk-container\" hidden><div class=\"sk-item\"><div class=\"sk-estimator sk-toggleable\"><input class=\"sk-toggleable__control sk-hidden--visually\" id=\"sk-estimator-id-2\" type=\"checkbox\" checked><label for=\"sk-estimator-id-2\" class=\"sk-toggleable__label sk-toggleable__label-arrow\">LogisticRegression</label><div class=\"sk-toggleable__content\"><pre>LogisticRegression()</pre></div></div></div></div></div>"
            ]
          },
          "metadata": {},
          "execution_count": 43
        }
      ]
    },
    {
      "cell_type": "code",
      "source": [
        "model.score(x_test, y_test)"
      ],
      "metadata": {
        "colab": {
          "base_uri": "https://localhost:8080/"
        },
        "id": "MLLrGmCU-Gs3",
        "outputId": "b0c1ac9b-6e54-4576-d131-499dc1624618"
      },
      "execution_count": 44,
      "outputs": [
        {
          "output_type": "execute_result",
          "data": {
            "text/plain": [
              "0.8741017964071857"
            ]
          },
          "metadata": {},
          "execution_count": 44
        }
      ]
    },
    {
      "cell_type": "markdown",
      "source": [
        "## Model Evaluation 1"
      ],
      "metadata": {
        "id": "dN9DNgL3AA4b"
      }
    },
    {
      "cell_type": "code",
      "source": [
        "# Classification Report (Precision, Recall , F1 Score )\n",
        "\n",
        "y_preds = model.predict(x_test)\n",
        "y_true = y_test\n",
        "print(classification_report(y_true, y_preds))"
      ],
      "metadata": {
        "colab": {
          "base_uri": "https://localhost:8080/",
          "height": 245
        },
        "id": "WDWgOQ_8-4dQ",
        "outputId": "14528b2b-99c0-45c9-d37d-390b07ea755b"
      },
      "execution_count": 11,
      "outputs": [
        {
          "output_type": "error",
          "ename": "NameError",
          "evalue": "ignored",
          "traceback": [
            "\u001b[0;31m---------------------------------------------------------------------------\u001b[0m",
            "\u001b[0;31mNameError\u001b[0m                                 Traceback (most recent call last)",
            "\u001b[0;32m<ipython-input-11-bfffc5c99120>\u001b[0m in \u001b[0;36m<cell line: 3>\u001b[0;34m()\u001b[0m\n\u001b[1;32m      1\u001b[0m \u001b[0;31m# Classification Report (Precision, Recall , F1 Score )\u001b[0m\u001b[0;34m\u001b[0m\u001b[0;34m\u001b[0m\u001b[0m\n\u001b[1;32m      2\u001b[0m \u001b[0;34m\u001b[0m\u001b[0m\n\u001b[0;32m----> 3\u001b[0;31m \u001b[0my_preds\u001b[0m \u001b[0;34m=\u001b[0m \u001b[0mmodel\u001b[0m\u001b[0;34m.\u001b[0m\u001b[0mpredict\u001b[0m\u001b[0;34m(\u001b[0m\u001b[0mx_test\u001b[0m\u001b[0;34m)\u001b[0m\u001b[0;34m\u001b[0m\u001b[0;34m\u001b[0m\u001b[0m\n\u001b[0m\u001b[1;32m      4\u001b[0m \u001b[0my_true\u001b[0m \u001b[0;34m=\u001b[0m \u001b[0my_test\u001b[0m\u001b[0;34m\u001b[0m\u001b[0;34m\u001b[0m\u001b[0m\n\u001b[1;32m      5\u001b[0m \u001b[0mprint\u001b[0m\u001b[0;34m(\u001b[0m\u001b[0mclassification_report\u001b[0m\u001b[0;34m(\u001b[0m\u001b[0my_true\u001b[0m\u001b[0;34m,\u001b[0m \u001b[0my_preds\u001b[0m\u001b[0;34m)\u001b[0m\u001b[0;34m)\u001b[0m\u001b[0;34m\u001b[0m\u001b[0;34m\u001b[0m\u001b[0m\n",
            "\u001b[0;31mNameError\u001b[0m: name 'model' is not defined"
          ]
        }
      ]
    },
    {
      "cell_type": "code",
      "source": [
        "# Now Confusion Matrix\n",
        "\n",
        "print(confusion_matrix(y_true, y_preds))"
      ],
      "metadata": {
        "colab": {
          "base_uri": "https://localhost:8080/"
        },
        "id": "ClEH0EAoAwqX",
        "outputId": "c6c2fe2e-3040-4f4e-a9c0-813a3136e4c6"
      },
      "execution_count": 38,
      "outputs": [
        {
          "output_type": "stream",
          "name": "stdout",
          "text": [
            "[[3598  401]\n",
            " [ 559 3124]]\n"
          ]
        }
      ]
    },
    {
      "cell_type": "markdown",
      "source": [
        "## Model Selection :  2 & model training\n",
        "**Machine learning**\n"
      ],
      "metadata": {
        "id": "0jqOLJ1uBtmb"
      }
    },
    {
      "cell_type": "code",
      "source": [
        "# use Support vactor Machines\n",
        "model1 = SVC()\n",
        "x_train, x_test, y_train, y_test = train_test_split(x,y, test_size = 0.40)"
      ],
      "metadata": {
        "id": "DZuDbbsqBemf"
      },
      "execution_count": 11,
      "outputs": []
    },
    {
      "cell_type": "code",
      "source": [
        "model1.fit(x_train, y_train)"
      ],
      "metadata": {
        "id": "6DCq2kFqHGuW"
      },
      "execution_count": null,
      "outputs": []
    },
    {
      "cell_type": "code",
      "source": [
        "model.score(x_test, y_test)"
      ],
      "metadata": {
        "id": "cLLEloJjHnZx"
      },
      "execution_count": null,
      "outputs": []
    },
    {
      "cell_type": "markdown",
      "source": [
        "## Model Evaluation 2"
      ],
      "metadata": {
        "id": "1bytWkyeKdvd"
      }
    },
    {
      "cell_type": "code",
      "source": [
        "# Classification Report (Precision, Recall , F1 Score )\n",
        "\n",
        "y_preds = model1.predict(x_test)\n",
        "y_true = y_test\n",
        "print(classification_report(y_true, y_preds))"
      ],
      "metadata": {
        "id": "FRwxRHhqKTEq"
      },
      "execution_count": null,
      "outputs": []
    },
    {
      "cell_type": "code",
      "source": [
        "# Now Confusion Matrix\n",
        "\n",
        "print(confusion_matrix(y_true, y_preds))"
      ],
      "metadata": {
        "id": "fJtyrnXSKTA9"
      },
      "execution_count": null,
      "outputs": []
    },
    {
      "cell_type": "code",
      "source": [],
      "metadata": {
        "id": "9JuemiaFKSz0"
      },
      "execution_count": null,
      "outputs": []
    }
  ]
}